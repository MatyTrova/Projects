{
 "cells": [
  {
   "attachments": {},
   "cell_type": "markdown",
   "metadata": {},
   "source": [
    "# **`Desarrollo API`**"
   ]
  },
  {
   "attachments": {},
   "cell_type": "markdown",
   "metadata": {},
   "source": [
    "Crearemos 6 funciones + el modelo de recomendación\n",
    "\n",
    "+ Película (sólo película, no serie, ni documentales, etc) con mayor duración según año, plataforma y tipo de duración. La función debe llamarse get_max_duration(year, platform, duration_type) y debe devolver sólo el string del nombre de la película. -`OK`\n",
    "\n",
    "+ Cantidad de películas (sólo películas, no series, ni documentales, etc) según plataforma, con un puntaje mayor a XX en determinado año. La función debe llamarse get_score_count(platform, scored, year) y debe devolver un int, con el total de películas que cumplen lo solicitado. -`OK`\n",
    "\n",
    "+ Cantidad de películas (sólo películas, no series, ni documentales, etc) según plataforma. La función debe llamarse get_count_platform(platform) y debe devolver un int, con el número total de películas de esa plataforma. Las plataformas deben llamarse amazon, netflix, hulu, disney. -`OK`\n",
    "\n",
    "+ Actor que más se repite según plataforma y año. La función debe llamarse get_actor(platform, year) y debe devolver sólo el string con el nombre del actor que más se repite según la plataforma y el año dado. -`OK`\n",
    "\n",
    "+ La cantidad de contenidos/productos (todo lo disponible en streaming) que se publicó por país y año. La función debe llamarse prod_per_county(tipo,pais,anio) deberia devolver el tipo de contenido (pelicula,serie,documental) por pais y año en un diccionario con las variables llamadas 'pais' (nombre del pais), 'anio' (año), 'pelicula' (tipo de contenido). -`OK`\n",
    "\n",
    "+ La cantidad total de contenidos/productos (todo lo disponible en streaming, series, documentales, peliculas, etc) según el rating de audiencia dado (para que publico fue clasificada la pelicula). La función debe llamarse get_contents(rating) y debe devolver el numero total de contenido con ese rating de audiencias. -`OK`"
   ]
  },
  {
   "cell_type": "code",
   "execution_count": 1,
   "metadata": {},
   "outputs": [],
   "source": [
    "# Librerias a utilizar\n",
    "import pandas as pd"
   ]
  },
  {
   "cell_type": "code",
   "execution_count": 2,
   "metadata": {},
   "outputs": [],
   "source": [
    "# Importamos el data set \"df_streaming\"\n",
    "df_streaming = pd.read_csv(\"Datasets/df_streaming.csv\")"
   ]
  },
  {
   "attachments": {},
   "cell_type": "markdown",
   "metadata": {},
   "source": [
    "---"
   ]
  },
  {
   "attachments": {},
   "cell_type": "markdown",
   "metadata": {},
   "source": [
    "+ `Consulta 1`: Película (sólo película, no serie, ni documentales, etc) con mayor duración según año, plataforma y tipo de duración. La función debe llamarse get_max_duration(year, platform, duration_type) y debe devolver sólo el string del nombre de la película."
   ]
  },
  {
   "cell_type": "code",
   "execution_count": 3,
   "metadata": {},
   "outputs": [],
   "source": [
    "def get_max_duration(anio, plataforma, dtype):\n",
    "    # Filtramos plataforma por letra del id, por ejemplo el id de disney es \"dsXX\"\n",
    "    if plataforma == \"amazon\":\n",
    "        df = df_streaming[df_streaming['id'].str.contains(\"a\")]\n",
    "    elif plataforma == \"disney\":\n",
    "        df = df_streaming[df_streaming['id'].str.contains(\"d\")]\n",
    "    elif plataforma == \"hulu\":\n",
    "        df = df_streaming[df_streaming['id'].str.contains(\"h\")]\n",
    "    elif plataforma == \"netflix\":\n",
    "        df = df_streaming[df_streaming['id'].str.contains(\"n\")]\n",
    "    else:\n",
    "        return print(\"error al introducir plataforma\")\n",
    "    \n",
    "    # Filtramos el dataframe con los parametros solicitados\n",
    "    df_filtrado = df.query(\"release_year == @anio & duration_type == @dtype\")\n",
    "\n",
    "    # Obtener el nombre de la película con mayor duración\n",
    "    max_duration_movie = df_filtrado.loc[df_filtrado.duration_int.idxmax()][\"title\"]\n",
    "\n",
    "    # Devolver el nombre de la película en un diccionario, como un string\n",
    "    return {'pelicula': max_duration_movie}   "
   ]
  },
  {
   "cell_type": "code",
   "execution_count": 4,
   "metadata": {},
   "outputs": [
    {
     "data": {
      "text/plain": [
       "{'pelicula': 'soothing surf at del norte for sleep black screen'}"
      ]
     },
     "execution_count": 4,
     "metadata": {},
     "output_type": "execute_result"
    }
   ],
   "source": [
    "# Comprobamos la función\n",
    "get_max_duration(2018,\"amazon\",\"min\")"
   ]
  },
  {
   "cell_type": "code",
   "execution_count": 5,
   "metadata": {},
   "outputs": [
    {
     "data": {
      "text/plain": [
       "{'pelicula': 'unbreakable kimmy schmidt: kimmy vs. the reverend'}"
      ]
     },
     "execution_count": 5,
     "metadata": {},
     "output_type": "execute_result"
    }
   ],
   "source": [
    "get_max_duration(2020,\"netflix\",\"min\")"
   ]
  },
  {
   "attachments": {},
   "cell_type": "markdown",
   "metadata": {},
   "source": [
    "---"
   ]
  },
  {
   "attachments": {},
   "cell_type": "markdown",
   "metadata": {},
   "source": [
    "+ `Consulta 2`: Cantidad de películas (sólo películas, no series, ni documentales, etc) según plataforma, con un puntaje mayor a XX en determinado año. La función debe llamarse get_score_count(platform, scored, year) y debe devolver un int, con el total de películas que cumplen lo solicitado."
   ]
  },
  {
   "cell_type": "code",
   "execution_count": 6,
   "metadata": {},
   "outputs": [],
   "source": [
    "def get_score_count(plataforma, scored, anio):\n",
    "    # Filtramos plataforma por letra del id, por ejemplo el id de disney es \"dsXX\"\n",
    "    if plataforma == \"amazon\":\n",
    "        df = df_streaming[df_streaming['id'].str.contains(\"a\")]\n",
    "    elif plataforma == \"disney\":\n",
    "        df = df_streaming[df_streaming['id'].str.contains(\"d\")]\n",
    "    elif plataforma == \"hulu\":\n",
    "        df = df_streaming[df_streaming['id'].str.contains(\"h\")]\n",
    "    elif plataforma == \"netflix\":\n",
    "        df = df_streaming[df_streaming['id'].str.contains(\"n\")]\n",
    "    else:\n",
    "        return print(\"error al introducir plataforma\")\n",
    "    \n",
    "    # Definimos que solo sea película\n",
    "    type = \"movie\"\n",
    "\n",
    "    # Filtramos\n",
    "    df_filtrado = df.query(\"release_year == @anio & score > @scored  & type == @type\")\n",
    "\n",
    "    # Contamos la cantidad total de registros que cumplen estos parametros\n",
    "    cantidad_total = len(df_filtrado)\n",
    "    \n",
    "    # Retornamos un diccionario con las respuestas\n",
    "    return {\n",
    "        'plataforma': plataforma,\n",
    "        'cantidad': cantidad_total,\n",
    "        'anio': anio,\n",
    "        'score': scored\n",
    "    }"
   ]
  },
  {
   "cell_type": "code",
   "execution_count": 7,
   "metadata": {},
   "outputs": [
    {
     "data": {
      "text/plain": [
       "{'plataforma': 'disney', 'cantidad': 74, 'anio': 2020, 'score': 3}"
      ]
     },
     "execution_count": 7,
     "metadata": {},
     "output_type": "execute_result"
    }
   ],
   "source": [
    "# Comprobamos\n",
    "get_score_count(\"disney\",3,2020)"
   ]
  },
  {
   "attachments": {},
   "cell_type": "markdown",
   "metadata": {},
   "source": [
    "---"
   ]
  },
  {
   "attachments": {},
   "cell_type": "markdown",
   "metadata": {},
   "source": [
    "+ `Consulta 3`: Cantidad de películas (sólo películas, no series, ni documentales, etc) según plataforma. La función debe llamarse get_count_platform(platform) y debe devolver un int, con el número total de películas de esa plataforma. Las plataformas deben llamarse amazon, netflix, hulu, disney."
   ]
  },
  {
   "cell_type": "code",
   "execution_count": 8,
   "metadata": {},
   "outputs": [],
   "source": [
    "def get_count_platform(plataforma) :\n",
    "    # Filtramos plataforma por letra del id, por ejemplo el id de disney es \"dsXX y agregamos variable con el nombre de la plataforma\" \n",
    "    if plataforma == \"amazon\":\n",
    "        df = df_streaming[df_streaming['id'].str.contains(\"a\")]\n",
    "    elif plataforma == \"disney\":\n",
    "        df = df_streaming[df_streaming['id'].str.contains(\"d\")]\n",
    "    elif plataforma == \"hulu\":\n",
    "        df = df_streaming[df_streaming['id'].str.contains(\"h\")]\n",
    "    elif plataforma == \"netflix\":\n",
    "        df = df_streaming[df_streaming['id'].str.contains(\"n\")]\n",
    "    else:\n",
    "        return print(\"error al introducir plataforma\")\n",
    "    \n",
    "    # Filtramos\n",
    "    df_filtrado = df.query(\"type == 'movie'\")\n",
    "\n",
    "    # Contamos cantidad de registros del df filtrado por plataforma\n",
    "    cantidad_total = len(df_filtrado)\n",
    "\n",
    "    # Retornamos un diccionario con el nombre de la plataforma y la cantidad de películas\n",
    "    return {'plataforma': plataforma, 'peliculas': cantidad_total}"
   ]
  },
  {
   "cell_type": "code",
   "execution_count": 9,
   "metadata": {},
   "outputs": [
    {
     "data": {
      "text/plain": [
       "{'plataforma': 'amazon', 'peliculas': 7814}"
      ]
     },
     "execution_count": 9,
     "metadata": {},
     "output_type": "execute_result"
    }
   ],
   "source": [
    "# Comprobamos\n",
    "get_count_platform(\"amazon\") "
   ]
  },
  {
   "attachments": {},
   "cell_type": "markdown",
   "metadata": {},
   "source": [
    "---"
   ]
  },
  {
   "attachments": {},
   "cell_type": "markdown",
   "metadata": {},
   "source": [
    "+ `Consulta 4` : Actor que más se repite según plataforma y año. La función debe llamarse get_actor(platform, year) y debe devolver sólo el string con el nombre del actor que más se repite según la plataforma y el año dado."
   ]
  },
  {
   "cell_type": "code",
   "execution_count": 10,
   "metadata": {},
   "outputs": [],
   "source": [
    "def get_actor(plataforma, anio):\n",
    "    # Filtramos plataforma por letra del id, por ejemplo el id de disney es \"dsXX\"\n",
    "    if plataforma == \"amazon\":\n",
    "        df = df_streaming[df_streaming['id'].str.contains(\"a\")]\n",
    "    elif plataforma == \"disney\":\n",
    "        df = df_streaming[df_streaming['id'].str.contains(\"d\")]\n",
    "    elif plataforma == \"hulu\":\n",
    "        df = df_streaming[df_streaming['id'].str.contains(\"h\")]\n",
    "    elif plataforma == \"netflix\":\n",
    "        df = df_streaming[df_streaming['id'].str.contains(\"n\")]\n",
    "    else:\n",
    "        return print(\"error al introducir plataforma\")\n",
    "    \n",
    "    # Filtramos\n",
    "    df_filtrado = df.query(\"release_year == @anio\")\n",
    "    \n",
    "    # Iteramos para saber que actor se repite mas y lo guardamos en un diccionario\n",
    "    name_counts = {}\n",
    "    for index, row in df_filtrado.iterrows():\n",
    "        # Comprueba que sea de tipo de dato str\n",
    "        if isinstance(row[\"cast\"], str):\n",
    "            # Separamos por la coma, ya que el \"cast\" cuenta con varios nombres separados por coma\n",
    "            names = row[\"cast\"].split(\", \")\n",
    "            for name in names:\n",
    "                if name in name_counts:\n",
    "                    name_counts[name] += 1\n",
    "                else:\n",
    "                    name_counts[name] = 1\n",
    "    most_common_name = max(name_counts, key=name_counts.get)\n",
    "    # Devuelve el actor que mas se repite en un diccionario\n",
    "    return {\n",
    "            'plataforma': plataforma,\n",
    "            'anio': anio,\n",
    "            'actor': most_common_name,\n",
    "            'apariciones': name_counts[most_common_name]\n",
    "        }\n",
    "\n"
   ]
  },
  {
   "cell_type": "code",
   "execution_count": 11,
   "metadata": {},
   "outputs": [
    {
     "data": {
      "text/plain": [
       "{'plataforma': 'disney', 'anio': 2014, 'actor': 'tom kane', 'apariciones': 6}"
      ]
     },
     "execution_count": 11,
     "metadata": {},
     "output_type": "execute_result"
    }
   ],
   "source": [
    "get_actor(\"disney\", 2014)"
   ]
  },
  {
   "attachments": {},
   "cell_type": "markdown",
   "metadata": {},
   "source": [
    "---"
   ]
  },
  {
   "attachments": {},
   "cell_type": "markdown",
   "metadata": {},
   "source": [
    "+ `Consulta 5` : La cantidad de contenidos/productos (todo lo disponible en streaming) que se publicó por país y año. La función debe llamarse prod_per_county(tipo,pais,anio) deberia devolver el tipo de contenido (pelicula,serie,documental) por pais y año en un diccionario con las variables llamadas 'pais' (nombre del pais), 'anio' (año), 'pelicula' (tipo de contenido)."
   ]
  },
  {
   "cell_type": "code",
   "execution_count": 12,
   "metadata": {},
   "outputs": [],
   "source": [
    "def prod_per_country(tipo, pais, anio):\n",
    "    # Filtrar los datos para el país, año y tipo especificados\n",
    "    df_filtrado = df_streaming.query(f\"type == '{tipo}' & country == '{pais}' & release_year == {anio}\")\n",
    "    # Contar la cantidad de filas del contenido\n",
    "    count = len(df_filtrado[\"id\"])\n",
    "    # Crear un diccionario con los resultados\n",
    "    return {'pais': pais, 'anio': anio, 'peliculas': count}\n",
    "\n"
   ]
  },
  {
   "cell_type": "code",
   "execution_count": 13,
   "metadata": {},
   "outputs": [
    {
     "data": {
      "text/plain": [
       "{'pais': 'argentina', 'anio': 2020, 'peliculas': 7}"
      ]
     },
     "execution_count": 13,
     "metadata": {},
     "output_type": "execute_result"
    }
   ],
   "source": [
    "prod_per_country(\"movie\", \"argentina\", 2020)"
   ]
  },
  {
   "attachments": {},
   "cell_type": "markdown",
   "metadata": {},
   "source": [
    "---"
   ]
  },
  {
   "attachments": {},
   "cell_type": "markdown",
   "metadata": {},
   "source": [
    "+ `Consulta 6` : La cantidad total de contenidos/productos (todo lo disponible en streaming, series, documentales, peliculas, etc) según el rating de audiencia dado (para que publico fue clasificada la pelicula). La función debe llamarse get_contents(rating) y debe devolver el numero total de contenido con ese rating de audiencias."
   ]
  },
  {
   "cell_type": "code",
   "execution_count": 14,
   "metadata": {},
   "outputs": [],
   "source": [
    "def get_contents(rating) :\n",
    "    # Filtramos\n",
    "    df_filtrado = df_streaming[df_streaming[\"rating\"] == rating]\n",
    "    # Contamos la cantidad de contenido\n",
    "    count = len(df_filtrado[\"id\"])\n",
    "    # Mostramos resultado en un diccionario\n",
    "    return {'rating': rating, 'contenido': count}"
   ]
  },
  {
   "cell_type": "code",
   "execution_count": 15,
   "metadata": {},
   "outputs": [
    {
     "data": {
      "text/plain": [
       "{'rating': '13+', 'contenido': 2117}"
      ]
     },
     "execution_count": 15,
     "metadata": {},
     "output_type": "execute_result"
    }
   ],
   "source": [
    "get_contents(\"13+\")"
   ]
  },
  {
   "attachments": {},
   "cell_type": "markdown",
   "metadata": {},
   "source": [
    "---"
   ]
  },
  {
   "attachments": {},
   "cell_type": "markdown",
   "metadata": {},
   "source": [
    "+ `Modelo de recomendación` : Creamos el modelo de recomendación, que éste consiste en recomendar películas a los usuarios basándose en películas similares, se ordenarán según el score y devolverá una lista con 5 valores, cada uno siendo el string del nombre de las películas con mayor puntaje, en orden descendente."
   ]
  },
  {
   "cell_type": "code",
   "execution_count": 16,
   "metadata": {},
   "outputs": [],
   "source": [
    "df = pd.read_csv(\"df_modelo.csv\")"
   ]
  },
  {
   "cell_type": "code",
   "execution_count": 17,
   "metadata": {},
   "outputs": [
    {
     "data": {
      "text/plain": [
       "{'recomendacion': ['finding nemo',\n",
       "  'the lion king 1 1/2',\n",
       "  'tremors 3: back to perfection',\n",
       "  'valiant',\n",
       "  'hercules']}"
      ]
     },
     "execution_count": 17,
     "metadata": {},
     "output_type": "execute_result"
    }
   ],
   "source": [
    "from sklearn.metrics.pairwise import cosine_similarity\n",
    "from sklearn.preprocessing import StandardScaler\n",
    "\n",
    "def get_recommendations_new(title, df=df, num_recommendations=5):\n",
    "    features = df.drop([\"title\",\"description\",\"id\",\"duration_type\"],axis=1).values\n",
    "    scaler = StandardScaler()\n",
    "    features = scaler.fit_transform(features)\n",
    "    # Obtener las características de la película a recomendar\n",
    "    df_filtrado = df[df['title'] == title]\n",
    "    # Si la película no se encuentra en el conjunto de datos, se crea un vector de características\n",
    "    caracteristicas = df_filtrado.drop([\"title\",\"description\",\"id\",\"duration_type\"],axis=1).values\n",
    "    \n",
    "    features_filtrado = scaler.transform(caracteristicas)\n",
    "    \n",
    "    similarity_matrix_filtrado = cosine_similarity(features_filtrado, features)\n",
    "    \n",
    "    sim_scores = list(enumerate(similarity_matrix_filtrado[0]))\n",
    "\n",
    "    # Ordenar las películas según su similitud\n",
    "    sim_scores = sorted(sim_scores, key=lambda x: x[1], reverse=True)\n",
    "\n",
    "    # Obtener los índices de las películas más similares\n",
    "    movie_indices = [i[0] for i in sim_scores[1:num_recommendations+1]]\n",
    "\n",
    "    peliculas = df[['title',\"score\"]].iloc[movie_indices].sort_values(by = \"score\",ascending=False)\n",
    "    peliculas = list(peliculas[\"title\"])\n",
    "     # Devolver los títulos de las películas más similares\n",
    "    return {'recomendacion': peliculas}\n",
    "\n",
    "get_recommendations_new(\"toy story 2\")"
   ]
  }
 ],
 "metadata": {
  "kernelspec": {
   "display_name": "Python 3",
   "language": "python",
   "name": "python3"
  },
  "language_info": {
   "codemirror_mode": {
    "name": "ipython",
    "version": 3
   },
   "file_extension": ".py",
   "mimetype": "text/x-python",
   "name": "python",
   "nbconvert_exporter": "python",
   "pygments_lexer": "ipython3",
   "version": "3.11.3"
  },
  "orig_nbformat": 4
 },
 "nbformat": 4,
 "nbformat_minor": 2
}
